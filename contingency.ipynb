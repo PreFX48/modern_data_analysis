{
 "cells": [
  {
   "cell_type": "markdown",
   "metadata": {},
   "source": [
    "# Preparing Data"
   ]
  },
  {
   "cell_type": "code",
   "execution_count": 1,
   "metadata": {
    "scrolled": true
   },
   "outputs": [],
   "source": [
    "import numpy as np\n",
    "import matplotlib.pyplot as plt\n",
    "import pandas as pd\n",
    "\n",
    "data = pd.read_csv('All_GPUs.csv')\n",
    "\n",
    "data['Resolution_W'], data['Resolution_H'] = data['Resolution_WxH'].str.split('x').str\n",
    "data['Core_Speed_MHz'] = data['Core_Speed'].str.replace(' MHz', '')\n",
    "data['Memory_Speed_MHz'] = data['Memory_Speed'].str.replace(' MHz', '')\n",
    "data['Max_Power_Watts'] = data['Max_Power'].str.replace(' Watts', '')\n",
    "data['Release_Price_Dollars'] = data['Release_Price'].str.replace('$', '')\n",
    "data['Memory_MB'] = data['Memory'].str.replace(' MB', '')\n",
    "data['Memory_Bus_Bit'] = data['Memory_Bus'].str.replace(' Bit', '')\n",
    "data['Memory_Bandwidth_GB_Sec'] = data['Memory_Bandwidth'].str.replace('GB/sec', '')\n",
    "\n",
    "all_features = [\n",
    "    \"Resolution_W\",\n",
    "    \"Resolution_H\",\n",
    "    \"Core_Speed_MHz\",\n",
    "    \"Memory_Speed_MHz\",\n",
    "    \"Max_Power_Watts\",\n",
    "    \"Release_Price_Dollars\",\n",
    "    \"Memory_MB\",\n",
    "    \"Memory_Bus_Bit\",\n",
    "    \"Memory_Bandwidth_GB_Sec\"\n",
    "]\n",
    "\n",
    "data = data[all_features].dropna()\n",
    "\n",
    "for col in data.columns:\n",
    "    data = data[pd.to_numeric(data[col], errors='coerce').notnull()]\n",
    "    \n",
    "data = data.dropna().drop_duplicates().astype('float').astype('int').reset_index(drop=True)"
   ]
  },
  {
   "cell_type": "markdown",
   "metadata": {},
   "source": [
    "# Generating Nominal Features"
   ]
  },
  {
   "cell_type": "markdown",
   "metadata": {},
   "source": [
    "### Core Speed"
   ]
  },
  {
   "cell_type": "code",
   "execution_count": 2,
   "metadata": {},
   "outputs": [
    {
     "data": {
      "image/png": "[encoded data removed]",
      "text/plain": [
       "<Figure size 432x288 with 1 Axes>"
      ]
     },
     "metadata": {
      "needs_background": "light"
     },
     "output_type": "display_data"
    }
   ],
   "source": [
    "data.hist(column='Core_Speed_MHz', bins=20)\n",
    "plt.show()"
   ]
  },
  {
   "cell_type": "code",
   "execution_count": 3,
   "metadata": {},
   "outputs": [],
   "source": [
    "core_speed_bounds = [0, 780, 1050, 1450, 1800]  # we choose that by glance\n",
    "core_speed_categories = []\n",
    "for start, end in zip(core_speed_bounds, core_speed_bounds[1:]):\n",
    "    indices = (data['Core_Speed_MHz'] >= start) & (data['Core_Speed_MHz'] < end)\n",
    "    core_speed_categories.append(list(data[indices].index))  # indices for all samples of the category"
   ]
  },
  {
   "cell_type": "markdown",
   "metadata": {},
   "source": [
    "### Memory Bandwidth"
   ]
  },
  {
   "cell_type": "code",
   "execution_count": 4,
   "metadata": {},
   "outputs": [
    {
     "data": {
      "image/png": "[encoded data removed]",
      "text/plain": [
       "<Figure size 432x288 with 1 Axes>"
      ]
     },
     "metadata": {
      "needs_background": "light"
     },
     "output_type": "display_data"
    }
   ],
   "source": [
    "data.hist(column='Memory_Bandwidth_GB_Sec', bins=20)\n",
    "plt.show()"
   ]
  },
  {
   "cell_type": "code",
   "execution_count": 5,
   "metadata": {},
   "outputs": [],
   "source": [
    "mem_bandwidth_bounds = [0, 140, 290, 550, 1100]  # we choose that by glance\n",
    "mem_band_categories = []\n",
    "for start, end in zip(mem_bandwidth_bounds, mem_bandwidth_bounds[1:]):\n",
    "    indices = (data['Memory_Bandwidth_GB_Sec'] >= start) & (data['Memory_Bandwidth_GB_Sec'] < end)\n",
    "    mem_band_categories.append(list(data[indices].index))  # indices for all samples of the category"
   ]
  },
  {
   "cell_type": "markdown",
   "metadata": {},
   "source": [
    "### Taxonomy"
   ]
  },
  {
   "cell_type": "code",
   "execution_count": 6,
   "metadata": {},
   "outputs": [],
   "source": [
    "# We make taxon partitioning by 4 groups\n",
    "taxon_bounds = [0, len(data)//4, len(data)//4*2, len(data)//4*3, len(data)]\n",
    "taxon_categories = [\n",
    "    list(range(start, end))\n",
    "    for (start, end) in zip(taxon_bounds, taxon_bounds[1:])\n",
    "]"
   ]
  },
  {
   "cell_type": "markdown",
   "metadata": {},
   "source": [
    "# Building Conditional Frequency Tables"
   ]
  },
  {
   "cell_type": "code",
   "execution_count": 7,
   "metadata": {},
   "outputs": [],
   "source": [
    "from tabulate import tabulate\n",
    "\n",
    "# C – Core_Speed_MHz feature\n",
    "# Number of samples in each partition\n",
    "c_samples = np.array([\n",
    "    (\n",
    "        [\n",
    "            len(set(taxon) & set(category))\n",
    "            for category in core_speed_categories\n",
    "        ] + [len(taxon)]\n",
    "    )\n",
    "    for taxon in taxon_categories\n",
    "] + [[len(category) for category in core_speed_categories] + [len(data)]])\n",
    "\n",
    "c_rel_freq = c_samples / np.sum(c_samples[:-1, :-1])  # Relational Frequency Table (C->T)\n",
    "# Can be visualised, but we skip this part to make the report cleaner\n",
    "# print('Relational Frequency Table (C->T)')\n",
    "# print(tabulate(c_rel_freq, ['C_1', 'C_2', 'C_3', 'C_4', 'Total'], tablefmt='fancy_grid', floatfmt='.3f'))"
   ]
  },
  {
   "cell_type": "code",
   "execution_count": 8,
   "metadata": {},
   "outputs": [],
   "source": [
    "# M – Memory_Bandwidth_GB_Sec feature\n",
    "# Number of samples in each partition\n",
    "m_samples = np.array([\n",
    "    (\n",
    "        [\n",
    "            len(set(taxon) & set(category))\n",
    "            for category in mem_band_categories\n",
    "        ] + [len(taxon)]\n",
    "    )\n",
    "    for taxon in taxon_categories\n",
    "] + [[len(category) for category in mem_band_categories] + [len(data)]])\n",
    "\n",
    "m_rel_freq = m_samples / np.sum(m_samples[:-1, :-1])  # Relational Frequency Table (M->T)\n",
    "# Can be visualised, but we skip this part to make the report cleaner\n",
    "# print('Relational Frequency Table (M->T)')\n",
    "# print(tabulate(m_rel_freq, ['M_1', 'M_2', 'M_3', 'M_4', 'Total'], tablefmt='fancy_grid', floatfmt='.3f'))"
   ]
  },
  {
   "cell_type": "code",
   "execution_count": 9,
   "metadata": {},
   "outputs": [
    {
     "name": "stdout",
     "output_type": "stream",
     "text": [
      "Conditional Frequency Table (C->T)\n",
      "╒═════╤═══════╤═══════╤═══════╤═══════╕\n",
      "│     │   C_1 │   C_2 │   C_3 │   C_4 │\n",
      "╞═════╪═══════╪═══════╪═══════╪═══════╡\n",
      "│ T_1 │ 0.093 │ 0.413 │ 0.233 │ 0.000 │\n",
      "├─────┼───────┼───────┼───────┼───────┤\n",
      "│ T_2 │ 0.372 │ 0.231 │ 0.260 │ 0.172 │\n",
      "├─────┼───────┼───────┼───────┼───────┤\n",
      "│ T_3 │ 0.256 │ 0.112 │ 0.151 │ 0.828 │\n",
      "├─────┼───────┼───────┼───────┼───────┤\n",
      "│ T_4 │ 0.279 │ 0.245 │ 0.356 │ 0.000 │\n",
      "╘═════╧═══════╧═══════╧═══════╧═══════╛\n"
     ]
    }
   ],
   "source": [
    "LEFT_HEADERS = np.array(['T_1', 'T_2', 'T_3', 'T_4']).reshape(4, 1)\n",
    "c_cond_freq = c_samples[:-1,:-1] / np.sum(c_samples[:-1,:-1], axis=0)\n",
    "print('Conditional Frequency Table (C->T)')\n",
    "print(tabulate(\n",
    "    np.concatenate((LEFT_HEADERS, c_cond_freq), axis=1),\n",
    "    headers=['', 'C_1', 'C_2', 'C_3', 'C_4'],\n",
    "    tablefmt='fancy_grid', floatfmt='.3f'\n",
    "))"
   ]
  },
  {
   "cell_type": "markdown",
   "metadata": {},
   "source": [
    "Here we can see that C4 (high core speed) implies with high (83%) probability taxon T3, with some much lower probability (17%) – taxon T2 and with zero probability – taxons T1 and T4.\n",
    "\n",
    "T1 is also quite improbable (with probability of 9%) to be for any sample from C1."
   ]
  },
  {
   "cell_type": "code",
   "execution_count": 10,
   "metadata": {},
   "outputs": [
    {
     "name": "stdout",
     "output_type": "stream",
     "text": [
      "Conditional Frequency Table (M->T)\n",
      "╒═════╤═══════╤═══════╤═══════╤═══════╕\n",
      "│     │   M_1 │   M_2 │   M_3 │   M_4 │\n",
      "╞═════╪═══════╪═══════╪═══════╪═══════╡\n",
      "│ T_1 │ 0.100 │ 0.300 │ 0.404 │ 0.615 │\n",
      "├─────┼───────┼───────┼───────┼───────┤\n",
      "│ T_2 │ 0.340 │ 0.188 │ 0.211 │ 0.154 │\n",
      "├─────┼───────┼───────┼───────┼───────┤\n",
      "│ T_3 │ 0.233 │ 0.324 │ 0.123 │ 0.000 │\n",
      "├─────┼───────┼───────┼───────┼───────┤\n",
      "│ T_4 │ 0.327 │ 0.188 │ 0.263 │ 0.231 │\n",
      "╘═════╧═══════╧═══════╧═══════╧═══════╛\n"
     ]
    }
   ],
   "source": [
    "m_cond_freq = m_samples[:-1, :-1] / np.sum(m_samples[:-1,:-1], axis=0)\n",
    "print('Conditional Frequency Table (M->T)')\n",
    "print(tabulate(\n",
    "    np.concatenate((LEFT_HEADERS, m_cond_freq), axis=1),\n",
    "    ['', 'M_1', 'M_2', 'M_3', 'M_4'],\n",
    "    tablefmt='fancy_grid', floatfmt='.3f'\n",
    "))"
   ]
  },
  {
   "cell_type": "markdown",
   "metadata": {},
   "source": [
    "Here we can see that M4 (high memory bandwidth) implies with 62% probability taxon T1, which is a high enough probability.\n",
    "\n",
    "It is also seen that M4 with 100% probability guarantees anything but T3.\n",
    "\n",
    "Besides, with rather high probability (90%) GPUs with the lowers memory bandwidth will not be in T1.\n"
   ]
  },
  {
   "cell_type": "markdown",
   "metadata": {},
   "source": [
    "# Building Quetelet Index Tables"
   ]
  },
  {
   "cell_type": "code",
   "execution_count": 11,
   "metadata": {},
   "outputs": [
    {
     "name": "stdout",
     "output_type": "stream",
     "text": [
      "Quetelet Index Table (C->T)\n",
      "╒═════╤════════╤════════╤════════╤════════╕\n",
      "│     │    C_1 │    C_2 │    C_3 │    C_4 │\n",
      "╞═════╪════════╪════════╪════════╪════════╡\n",
      "│ T_1 │ -0.626 │  0.659 │ -0.064 │ -1.000 │\n",
      "├─────┼────────┼────────┼────────┼────────┤\n",
      "│ T_2 │  0.496 │ -0.072 │  0.046 │ -0.307 │\n",
      "├─────┼────────┼────────┼────────┼────────┤\n",
      "│ T_3 │  0.029 │ -0.550 │ -0.394 │  2.327 │\n",
      "├─────┼────────┼────────┼────────┼────────┤\n",
      "│ T_4 │  0.099 │ -0.036 │  0.403 │ -1.000 │\n",
      "╘═════╧════════╧════════╧════════╧════════╛\n"
     ]
    }
   ],
   "source": [
    "c_indep_freq = c_rel_freq[:,4].reshape(5, 1) @ c_rel_freq[4,:].reshape(1, 5)\n",
    "c_quetelet_index = c_rel_freq[0:4,0:4] / c_indep_freq[0:4,0:4] - 1\n",
    "print('Quetelet Index Table (C->T)')\n",
    "print(tabulate(\n",
    "    np.concatenate((LEFT_HEADERS, c_quetelet_index), axis=1),\n",
    "    ['', 'C_1', 'C_2', 'C_3', 'C_4'],\n",
    "    tablefmt='fancy_grid', floatfmt='.3f'\n",
    "))"
   ]
  },
  {
   "cell_type": "markdown",
   "metadata": {},
   "source": [
    "Here we can see that after choosing sample from C4 or T3, with much higher probability it will be a sample from T3 and C4 accordingly.\n",
    "Probability of C4 and T1,T2,T4 are accordingly lowered.\n",
    "\n",
    "Probability of simultaneously choosing sample from T1 and C1 is also lowered."
   ]
  },
  {
   "cell_type": "code",
   "execution_count": 12,
   "metadata": {},
   "outputs": [
    {
     "name": "stdout",
     "output_type": "stream",
     "text": [
      "Quetelet Index Table (M->T)\n",
      "╒═════╤════════╤════════╤════════╤════════╕\n",
      "│     │    M_1 │    M_2 │    M_3 │    M_4 │\n",
      "╞═════╪════════╪════════╪════════╪════════╡\n",
      "│ T_1 │ -0.598 │  0.206 │  0.622 │  1.474 │\n",
      "├─────┼────────┼────────┼────────┼────────┤\n",
      "│ T_2 │  0.367 │ -0.243 │ -0.154 │ -0.381 │\n",
      "├─────┼────────┼────────┼────────┼────────┤\n",
      "│ T_3 │ -0.062 │  0.301 │ -0.506 │ -1.000 │\n",
      "├─────┼────────┼────────┼────────┼────────┤\n",
      "│ T_4 │  0.287 │ -0.258 │  0.037 │ -0.091 │\n",
      "╘═════╧════════╧════════╧════════╧════════╛\n"
     ]
    }
   ],
   "source": [
    "m_indep_freq = m_rel_freq[:,4].reshape(5, 1) @ m_rel_freq[4,:].reshape(1, 5)\n",
    "m_quetelet_index = m_rel_freq[0:4,0:4] / m_indep_freq[0:4,0:4] - 1\n",
    "print('Quetelet Index Table (M->T)')\n",
    "print(tabulate(\n",
    "    np.concatenate((LEFT_HEADERS, m_quetelet_index), axis=1),\n",
    "    ['', 'M_1', 'M_2', 'M_3', 'M_4'],\n",
    "    tablefmt='fancy_grid', floatfmt='.3f'\n",
    "))"
   ]
  },
  {
   "cell_type": "markdown",
   "metadata": {},
   "source": [
    "Probability of choosing sample from both T1 and M4 is much higher than normal.\n",
    "\n",
    "At the same time simultaneous inclusions in (T1, M1) and (T3, M3) is lower than average.\n",
    "\n",
    "Being simultaneously in both T3 and M4 is impossible (0% probability)."
   ]
  },
  {
   "cell_type": "markdown",
   "metadata": {},
   "source": [
    "# Computing X2 values"
   ]
  },
  {
   "cell_type": "code",
   "execution_count": 13,
   "metadata": {},
   "outputs": [
    {
     "name": "stdout",
     "output_type": "stream",
     "text": [
      "X matrix (C->T)\n",
      "╒═════╤═══════╤═══════╤═══════╤═══════╕\n",
      "│     │   C_1 │   C_2 │   C_3 │   C_4 │\n",
      "╞═════╪═══════╪═══════╪═══════╪═══════╡\n",
      "│ T_1 │ 0.011 │ 0.040 │ 0.000 │ 0.037 │\n",
      "├─────┼───────┼───────┼───────┼───────┤\n",
      "│ T_2 │ 0.007 │ 0.000 │ 0.000 │ 0.003 │\n",
      "├─────┼───────┼───────┼───────┼───────┤\n",
      "│ T_3 │ 0.000 │ 0.028 │ 0.014 │ 0.200 │\n",
      "├─────┼───────┼───────┼───────┼───────┤\n",
      "│ T_4 │ 0.000 │ 0.000 │ 0.015 │ 0.038 │\n",
      "╘═════╧═══════╧═══════╧═══════╧═══════╛\n",
      "X^2 = sum(matrix) = 0.3946423078510352\n"
     ]
    }
   ],
   "source": [
    "c_pearsson = ((c_rel_freq - c_indep_freq)**2) / c_indep_freq\n",
    "print('X matrix (C->T)')\n",
    "print(tabulate(\n",
    "    np.concatenate((LEFT_HEADERS, c_pearsson[:-1,:-1]), axis=1),\n",
    "    ['', 'C_1', 'C_2', 'C_3', 'C_4'],\n",
    "    tablefmt='fancy_grid', floatfmt='.3f'\n",
    "))\n",
    "print('X^2 = sum(matrix) = {}'.format(c_pearsson.sum()))"
   ]
  },
  {
   "cell_type": "markdown",
   "metadata": {},
   "source": [
    "Item (C4 -> T3) with value 0.2 is the most deviated from the independence."
   ]
  },
  {
   "cell_type": "code",
   "execution_count": 14,
   "metadata": {},
   "outputs": [
    {
     "name": "stdout",
     "output_type": "stream",
     "text": [
      "X matrix (M->T)\n",
      "╒═════╤═══════╤═══════╤═══════╤═══════╕\n",
      "│     │   M_1 │   M_2 │   M_3 │   M_4 │\n",
      "╞═════╪═══════╪═══════╪═══════╪═══════╡\n",
      "│ T_1 │ 0.034 │ 0.005 │ 0.014 │ 0.018 │\n",
      "├─────┼───────┼───────┼───────┼───────┤\n",
      "│ T_2 │ 0.013 │ 0.006 │ 0.001 │ 0.001 │\n",
      "├─────┼───────┼───────┼───────┼───────┤\n",
      "│ T_3 │ 0.000 │ 0.010 │ 0.009 │ 0.008 │\n",
      "├─────┼───────┼───────┼───────┼───────┤\n",
      "│ T_4 │ 0.008 │ 0.007 │ 0.000 │ 0.000 │\n",
      "╘═════╧═══════╧═══════╧═══════╧═══════╛\n",
      "X^2 = sum(matrix) = 0.13559625276199913\n"
     ]
    }
   ],
   "source": [
    "m_pearsson = ((m_rel_freq - m_indep_freq)**2) / m_indep_freq\n",
    "print('X matrix (M->T)')\n",
    "print(tabulate(\n",
    "    np.concatenate((LEFT_HEADERS, m_pearsson[:-1,:-1]), axis=1),\n",
    "    ['', 'M_1', 'M_2', 'M_3', 'M_4'],\n",
    "    tablefmt='fancy_grid', floatfmt='.3f'\n",
    "))\n",
    "print('X^2 = sum(matrix) = {}'.format(m_pearsson.sum()))"
   ]
  },
  {
   "cell_type": "markdown",
   "metadata": {},
   "source": [
    "Item (M1 -> T1) with value 0.034 is the most deviated from the independence, which is not that much, so the whole table shows more or less independent values"
   ]
  },
  {
   "cell_type": "markdown",
   "metadata": {},
   "source": [
    "# Computing Average Quatelet Indices"
   ]
  },
  {
   "cell_type": "code",
   "execution_count": 15,
   "metadata": {},
   "outputs": [
    {
     "name": "stdout",
     "output_type": "stream",
     "text": [
      "Averate Quetelet Index matrix (C->T)\n",
      "╒═════╤════════╤════════╤════════╤════════╕\n",
      "│     │    C_1 │    C_2 │    C_3 │    C_4 │\n",
      "╞═════╪════════╪════════╪════════╪════════╡\n",
      "│ T_1 │ -0.006 │  0.100 │ -0.006 │ -0.000 │\n",
      "├─────┼────────┼────────┼────────┼────────┤\n",
      "│ T_2 │  0.020 │ -0.006 │  0.005 │ -0.008 │\n",
      "├─────┼────────┼────────┼────────┼────────┤\n",
      "│ T_3 │  0.001 │ -0.023 │ -0.022 │  0.286 │\n",
      "├─────┼────────┼────────┼────────┼────────┤\n",
      "│ T_4 │  0.003 │ -0.003 │  0.054 │ -0.000 │\n",
      "╘═════╧════════╧════════╧════════╧════════╛\n",
      "Q = sum(matrix) = 0.39464230785103516\n"
     ]
    }
   ],
   "source": [
    "c_average_quetelet = c_rel_freq[:-1,:-1] * c_quetelet_index\n",
    "print('Averate Quetelet Index matrix (C->T)')\n",
    "print(tabulate(\n",
    "    np.concatenate((LEFT_HEADERS, c_average_quetelet), axis=1),\n",
    "    ['', 'C_1', 'C_2', 'C_3', 'C_4'],\n",
    "    tablefmt='fancy_grid', floatfmt='.3f'\n",
    "))\n",
    "print('Q = sum(matrix) = {}'.format(c_average_quetelet.sum()))"
   ]
  },
  {
   "cell_type": "code",
   "execution_count": 16,
   "metadata": {},
   "outputs": [
    {
     "name": "stdout",
     "output_type": "stream",
     "text": [
      "Averate Quetelet Index matrix (M->T)\n",
      "╒═════╤════════╤════════╤════════╤════════╕\n",
      "│     │    M_1 │    M_2 │    M_3 │    M_4 │\n",
      "╞═════╪════════╪════════╪════════╪════════╡\n",
      "│ T_1 │ -0.023 │  0.027 │  0.037 │  0.030 │\n",
      "├─────┼────────┼────────┼────────┼────────┤\n",
      "│ T_2 │  0.048 │ -0.020 │ -0.005 │ -0.002 │\n",
      "├─────┼────────┼────────┼────────┼────────┤\n",
      "│ T_3 │ -0.006 │  0.042 │ -0.009 │ -0.000 │\n",
      "├─────┼────────┼────────┼────────┼────────┤\n",
      "│ T_4 │  0.036 │ -0.021 │  0.001 │ -0.001 │\n",
      "╘═════╧════════╧════════╧════════╧════════╛\n",
      "Q = sum(matrix) = 0.1355962527619991\n"
     ]
    }
   ],
   "source": [
    "m_average_quetelet = m_rel_freq[:-1,:-1] * m_quetelet_index\n",
    "print('Averate Quetelet Index matrix (M->T)')\n",
    "print(tabulate(\n",
    "    np.concatenate((LEFT_HEADERS, m_average_quetelet), axis=1),\n",
    "    ['M_1', 'M_2', 'M_3', 'M_4'],\n",
    "    tablefmt='fancy_grid', floatfmt='.3f'\n",
    "))\n",
    "print('Q = sum(matrix) = {}'.format(m_average_quetelet.sum()))"
   ]
  },
  {
   "cell_type": "markdown",
   "metadata": {},
   "source": [
    "# Determining number of samples"
   ]
  },
  {
   "cell_type": "markdown",
   "metadata": {},
   "source": [
    "Number of degrees of freedom for contingency table is $df=(4-1)*(4-1)=9$.\n",
    "\n",
    "For this, at the 95% probability chi-squared value is less than 16.92.\n",
    "\n",
    "At the 99% probability chi-squared value is less than 21.67"
   ]
  },
  {
   "cell_type": "markdown",
   "metadata": {},
   "source": [
    "### C -> T"
   ]
  },
  {
   "cell_type": "markdown",
   "metadata": {},
   "source": [
    "For $X^2=0.39464$ and $X^2*N > 16.92$ $\\Rightarrow N > \\frac{16.92}{0.39464} = 42.87$.\n",
    "\n",
    "That means that for any $N\\geq 43$ we can reject the hypothesis of statistical independence at 95% confidence level. For any $N \\leq 42$ the hypothesis should be accepted.\n",
    "\n",
    "At the 99% probability chi-squared value is less than 21.67.\n",
    "For $X^2=0.39464$ and $X^2*N > 21.67$ $\\Rightarrow N > \\frac{21.67}{0.39464} = 54.91$.\n",
    "\n",
    "That means that for any $N\\geq 55$ we can reject the hypothesis of statistical independence at 99% confidence level. For any $N \\leq 54$ the hypothesis should be accepted."
   ]
  },
  {
   "cell_type": "markdown",
   "metadata": {},
   "source": [
    "### M -> T"
   ]
  },
  {
   "cell_type": "markdown",
   "metadata": {},
   "source": [
    "For $X^2=0.135596$ and $X^2*N > 16.92$ $\\Rightarrow N > \\frac{16.92}{0.135596} = 124.78$.\n",
    "\n",
    "That means that for any $N\\geq 125$ we can reject the hypothesis of statistical independence at 95% confidence level. For any $N \\leq 124$ the hypothesis should be accepted.\n",
    "\n",
    "At the 99% probability chi-squared value is less than 21.67.\n",
    "For $X^2=0.135596$ and $X^2*N > 21.67$ $\\Rightarrow N > \\frac{21.67}{0.135596} = 159.81$.\n",
    "\n",
    "That means that for any $N\\geq 160$ we can reject the hypothesis of statistical independence at 99% confidence level. For any $N \\leq 159$ the hypothesis should be accepted."
   ]
  },
  {
   "cell_type": "markdown",
   "metadata": {},
   "source": [
    "# Conclusion"
   ]
  },
  {
   "cell_type": "markdown",
   "metadata": {},
   "source": [
    "So it can be seen that C partition (core speed) is much better associated with T partition than M partition (memory bandwidth).\n",
    "\n",
    "There are a lot more items in C partition which are more deviant from statistical independence than in M partition,\n",
    "and in average C partition is more dependent on T.\n",
    "\n",
    "According to independence critetion, M partition required more samples to be rejected as statistically independent, which makes it less believeable to be associated with T."
   ]
  }
 ],
 "metadata": {
  "kernelspec": {
   "display_name": "Python 3",
   "language": "python",
   "name": "python3"
  },
  "language_info": {
   "codemirror_mode": {
    "name": "ipython",
    "version": 3
   },
   "file_extension": ".py",
   "mimetype": "text/x-python",
   "name": "python",
   "nbconvert_exporter": "python",
   "pygments_lexer": "ipython3",
   "version": "3.7.1"
  }
 },
 "nbformat": 4,
 "nbformat_minor": 2
}
